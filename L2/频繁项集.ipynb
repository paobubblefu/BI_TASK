{
 "metadata": {
  "language_info": {
   "codemirror_mode": {
    "name": "ipython",
    "version": 3
   },
   "file_extension": ".py",
   "mimetype": "text/x-python",
   "name": "python",
   "nbconvert_exporter": "python",
   "pygments_lexer": "ipython3",
   "version": "3.7.6-final"
  },
  "orig_nbformat": 2,
  "kernelspec": {
   "name": "python_defaultSpec_1598930275949",
   "display_name": "Python 3.7.6 64-bit ('base': conda)"
  }
 },
 "nbformat": 4,
 "nbformat_minor": 2,
 "cells": [
  {
   "cell_type": "code",
   "execution_count": 17,
   "metadata": {},
   "outputs": [],
   "source": [
    "import pandas as pd \n",
    "from mlxtend.frequent_patterns import apriori\n",
    "from mlxtend.frequent_patterns import association_rules"
   ]
  },
  {
   "cell_type": "code",
   "execution_count": 5,
   "metadata": {},
   "outputs": [],
   "source": [
    "data = pd.read_csv('Market_Basket_Optimisation.csv', header=None)  # 注意次data无表头，必须添加header none"
   ]
  },
  {
   "cell_type": "code",
   "execution_count": 9,
   "metadata": {},
   "outputs": [],
   "source": [
    "\n",
    "for i in data.columns:\n",
    "    data[i] = data[i].str.strip()"
   ]
  },
  {
   "cell_type": "code",
   "execution_count": 13,
   "metadata": {},
   "outputs": [],
   "source": [
    "新建一dataframe表，把所有item以|分隔放进去\n",
    "market_hot_encode=pd.DataFrame(columns=[\"items\"])\n",
    "for i in data.index:\n",
    "    item=\"\"\n",
    "    for j in data.loc[i].unique():\n",
    "        item += str(j) + \"|\"\n",
    "    market_hot_encode.loc[i,\"items\"] = item"
   ]
  },
  {
   "cell_type": "code",
   "execution_count": 14,
   "metadata": {},
   "outputs": [
    {
     "output_type": "execute_result",
     "data": {
      "text/plain": "                                                  items\n0     shrimp|almonds|avocado|vegetables mix|green gr...\n1                           burgers|meatballs|eggs|nan|\n2                                          chutney|nan|\n3                                   turkey|avocado|nan|\n4     mineral water|milk|energy bar|whole wheat rice...\n...                                                 ...\n7496                 butter|light mayo|fresh bread|nan|\n7497  burgers|frozen vegetables|eggs|french fries|ma...\n7498                                       chicken|nan|\n7499                            escalope|green tea|nan|\n7500  eggs|frozen smoothie|yogurt cake|low fat yogur...\n\n[7501 rows x 1 columns]",
      "text/html": "<div>\n<style scoped>\n    .dataframe tbody tr th:only-of-type {\n        vertical-align: middle;\n    }\n\n    .dataframe tbody tr th {\n        vertical-align: top;\n    }\n\n    .dataframe thead th {\n        text-align: right;\n    }\n</style>\n<table border=\"1\" class=\"dataframe\">\n  <thead>\n    <tr style=\"text-align: right;\">\n      <th></th>\n      <th>items</th>\n    </tr>\n  </thead>\n  <tbody>\n    <tr>\n      <th>0</th>\n      <td>shrimp|almonds|avocado|vegetables mix|green gr...</td>\n    </tr>\n    <tr>\n      <th>1</th>\n      <td>burgers|meatballs|eggs|nan|</td>\n    </tr>\n    <tr>\n      <th>2</th>\n      <td>chutney|nan|</td>\n    </tr>\n    <tr>\n      <th>3</th>\n      <td>turkey|avocado|nan|</td>\n    </tr>\n    <tr>\n      <th>4</th>\n      <td>mineral water|milk|energy bar|whole wheat rice...</td>\n    </tr>\n    <tr>\n      <th>...</th>\n      <td>...</td>\n    </tr>\n    <tr>\n      <th>7496</th>\n      <td>butter|light mayo|fresh bread|nan|</td>\n    </tr>\n    <tr>\n      <th>7497</th>\n      <td>burgers|frozen vegetables|eggs|french fries|ma...</td>\n    </tr>\n    <tr>\n      <th>7498</th>\n      <td>chicken|nan|</td>\n    </tr>\n    <tr>\n      <th>7499</th>\n      <td>escalope|green tea|nan|</td>\n    </tr>\n    <tr>\n      <th>7500</th>\n      <td>eggs|frozen smoothie|yogurt cake|low fat yogur...</td>\n    </tr>\n  </tbody>\n</table>\n<p>7501 rows × 1 columns</p>\n</div>"
     },
     "metadata": {},
     "execution_count": 14
    }
   ],
   "source": [
    "market_hot_encode"
   ]
  },
  {
   "cell_type": "code",
   "execution_count": 15,
   "metadata": {},
   "outputs": [],
   "source": [
    "# one-hot编码，并删除nan\n",
    "market_hot_encode=market_hot_encode[\"items\"].str.get_dummies(sep=\"|\").drop(\"nan\",axis=1)"
   ]
  },
  {
   "cell_type": "code",
   "execution_count": 16,
   "metadata": {},
   "outputs": [
    {
     "output_type": "execute_result",
     "data": {
      "text/plain": "   almonds  antioxydant juice  asparagus  avocado  babies food  bacon  \\\n0        1                  1          0        1            0      0   \n1        0                  0          0        0            0      0   \n2        0                  0          0        0            0      0   \n3        0                  0          0        1            0      0   \n4        0                  0          0        0            0      0   \n\n   barbecue sauce  black tea  blueberries  body spray  ...  turkey  \\\n0               0          0            0           0  ...       0   \n1               0          0            0           0  ...       0   \n2               0          0            0           0  ...       0   \n3               0          0            0           0  ...       1   \n4               0          0            0           0  ...       0   \n\n   vegetables mix  water spray  white wine  whole weat flour  \\\n0               1            0           0                 1   \n1               0            0           0                 0   \n2               0            0           0                 0   \n3               0            0           0                 0   \n4               0            0           0                 0   \n\n   whole wheat pasta  whole wheat rice  yams  yogurt cake  zucchini  \n0                  0                 0     1            0         0  \n1                  0                 0     0            0         0  \n2                  0                 0     0            0         0  \n3                  0                 0     0            0         0  \n4                  0                 1     0            0         0  \n\n[5 rows x 119 columns]",
      "text/html": "<div>\n<style scoped>\n    .dataframe tbody tr th:only-of-type {\n        vertical-align: middle;\n    }\n\n    .dataframe tbody tr th {\n        vertical-align: top;\n    }\n\n    .dataframe thead th {\n        text-align: right;\n    }\n</style>\n<table border=\"1\" class=\"dataframe\">\n  <thead>\n    <tr style=\"text-align: right;\">\n      <th></th>\n      <th>almonds</th>\n      <th>antioxydant juice</th>\n      <th>asparagus</th>\n      <th>avocado</th>\n      <th>babies food</th>\n      <th>bacon</th>\n      <th>barbecue sauce</th>\n      <th>black tea</th>\n      <th>blueberries</th>\n      <th>body spray</th>\n      <th>...</th>\n      <th>turkey</th>\n      <th>vegetables mix</th>\n      <th>water spray</th>\n      <th>white wine</th>\n      <th>whole weat flour</th>\n      <th>whole wheat pasta</th>\n      <th>whole wheat rice</th>\n      <th>yams</th>\n      <th>yogurt cake</th>\n      <th>zucchini</th>\n    </tr>\n  </thead>\n  <tbody>\n    <tr>\n      <th>0</th>\n      <td>1</td>\n      <td>1</td>\n      <td>0</td>\n      <td>1</td>\n      <td>0</td>\n      <td>0</td>\n      <td>0</td>\n      <td>0</td>\n      <td>0</td>\n      <td>0</td>\n      <td>...</td>\n      <td>0</td>\n      <td>1</td>\n      <td>0</td>\n      <td>0</td>\n      <td>1</td>\n      <td>0</td>\n      <td>0</td>\n      <td>1</td>\n      <td>0</td>\n      <td>0</td>\n    </tr>\n    <tr>\n      <th>1</th>\n      <td>0</td>\n      <td>0</td>\n      <td>0</td>\n      <td>0</td>\n      <td>0</td>\n      <td>0</td>\n      <td>0</td>\n      <td>0</td>\n      <td>0</td>\n      <td>0</td>\n      <td>...</td>\n      <td>0</td>\n      <td>0</td>\n      <td>0</td>\n      <td>0</td>\n      <td>0</td>\n      <td>0</td>\n      <td>0</td>\n      <td>0</td>\n      <td>0</td>\n      <td>0</td>\n    </tr>\n    <tr>\n      <th>2</th>\n      <td>0</td>\n      <td>0</td>\n      <td>0</td>\n      <td>0</td>\n      <td>0</td>\n      <td>0</td>\n      <td>0</td>\n      <td>0</td>\n      <td>0</td>\n      <td>0</td>\n      <td>...</td>\n      <td>0</td>\n      <td>0</td>\n      <td>0</td>\n      <td>0</td>\n      <td>0</td>\n      <td>0</td>\n      <td>0</td>\n      <td>0</td>\n      <td>0</td>\n      <td>0</td>\n    </tr>\n    <tr>\n      <th>3</th>\n      <td>0</td>\n      <td>0</td>\n      <td>0</td>\n      <td>1</td>\n      <td>0</td>\n      <td>0</td>\n      <td>0</td>\n      <td>0</td>\n      <td>0</td>\n      <td>0</td>\n      <td>...</td>\n      <td>1</td>\n      <td>0</td>\n      <td>0</td>\n      <td>0</td>\n      <td>0</td>\n      <td>0</td>\n      <td>0</td>\n      <td>0</td>\n      <td>0</td>\n      <td>0</td>\n    </tr>\n    <tr>\n      <th>4</th>\n      <td>0</td>\n      <td>0</td>\n      <td>0</td>\n      <td>0</td>\n      <td>0</td>\n      <td>0</td>\n      <td>0</td>\n      <td>0</td>\n      <td>0</td>\n      <td>0</td>\n      <td>...</td>\n      <td>0</td>\n      <td>0</td>\n      <td>0</td>\n      <td>0</td>\n      <td>0</td>\n      <td>0</td>\n      <td>1</td>\n      <td>0</td>\n      <td>0</td>\n      <td>0</td>\n    </tr>\n  </tbody>\n</table>\n<p>5 rows × 119 columns</p>\n</div>"
     },
     "metadata": {},
     "execution_count": 16
    }
   ],
   "source": [
    "market_hot_encode.head()"
   ]
  },
  {
   "cell_type": "code",
   "execution_count": 18,
   "metadata": {},
   "outputs": [],
   "source": [
    "# 挖掘频繁项集，最小支持度为0.025\n",
    "itemsets = apriori(market_hot_encode,use_colnames=True, min_support=0.025)"
   ]
  },
  {
   "cell_type": "code",
   "execution_count": 19,
   "metadata": {
    "tags": []
   },
   "outputs": [
    {
     "output_type": "stream",
     "name": "stdout",
     "text": "-------------------- 频繁项集 --------------------\n"
    },
    {
     "output_type": "execute_result",
     "data": {
      "text/plain": "     support               itemsets\n30  0.238368        (mineral water)\n12  0.179709                 (eggs)\n38  0.174110            (spaghetti)\n16  0.170911         (french fries)\n8   0.163845            (chocolate)\n..       ...                    ...\n33  0.026530               (pepper)\n5   0.025730              (cereals)\n42  0.025730       (vegetables mix)\n54  0.025463      (eggs, green tea)\n72  0.025197  (pancakes, spaghetti)\n\n[73 rows x 2 columns]",
      "text/html": "<div>\n<style scoped>\n    .dataframe tbody tr th:only-of-type {\n        vertical-align: middle;\n    }\n\n    .dataframe tbody tr th {\n        vertical-align: top;\n    }\n\n    .dataframe thead th {\n        text-align: right;\n    }\n</style>\n<table border=\"1\" class=\"dataframe\">\n  <thead>\n    <tr style=\"text-align: right;\">\n      <th></th>\n      <th>support</th>\n      <th>itemsets</th>\n    </tr>\n  </thead>\n  <tbody>\n    <tr>\n      <th>30</th>\n      <td>0.238368</td>\n      <td>(mineral water)</td>\n    </tr>\n    <tr>\n      <th>12</th>\n      <td>0.179709</td>\n      <td>(eggs)</td>\n    </tr>\n    <tr>\n      <th>38</th>\n      <td>0.174110</td>\n      <td>(spaghetti)</td>\n    </tr>\n    <tr>\n      <th>16</th>\n      <td>0.170911</td>\n      <td>(french fries)</td>\n    </tr>\n    <tr>\n      <th>8</th>\n      <td>0.163845</td>\n      <td>(chocolate)</td>\n    </tr>\n    <tr>\n      <th>...</th>\n      <td>...</td>\n      <td>...</td>\n    </tr>\n    <tr>\n      <th>33</th>\n      <td>0.026530</td>\n      <td>(pepper)</td>\n    </tr>\n    <tr>\n      <th>5</th>\n      <td>0.025730</td>\n      <td>(cereals)</td>\n    </tr>\n    <tr>\n      <th>42</th>\n      <td>0.025730</td>\n      <td>(vegetables mix)</td>\n    </tr>\n    <tr>\n      <th>54</th>\n      <td>0.025463</td>\n      <td>(eggs, green tea)</td>\n    </tr>\n    <tr>\n      <th>72</th>\n      <td>0.025197</td>\n      <td>(pancakes, spaghetti)</td>\n    </tr>\n  </tbody>\n</table>\n<p>73 rows × 2 columns</p>\n</div>"
     },
     "metadata": {},
     "execution_count": 19
    }
   ],
   "source": [
    "\n",
    "# 按照支持度从大到小进行时候粗\n",
    "itemsets = itemsets.sort_values(by=\"support\" , ascending=False) \n",
    "print('-'*20, '频繁项集', '-'*20)\n",
    "itemsets"
   ]
  },
  {
   "cell_type": "code",
   "execution_count": 20,
   "metadata": {},
   "outputs": [
    {
     "output_type": "execute_result",
     "data": {
      "text/plain": "\n0                (milk)      (mineral water)            0.129583   \n18           (pancakes)          (spaghetti)            0.095054   \n19          (spaghetti)           (pancakes)            0.174110   \n11               (milk)          (chocolate)            0.129583   \n10          (chocolate)               (milk)            0.163845   \n\n    consequent support   support  confidence      lift  leverage  conviction  \n5             0.098254  0.039195    0.225115  2.291162  0.022088    1.163716  \n4             0.174110  0.039195    0.398915  2.291162  0.022088    1.373997  \n13            0.087188  0.028796    0.160237  1.837830  0.013128    1.086988  \n12            0.179709  0.028796    0.330275  1.837830  0.013128    1.224818  \n16            0.238368  0.027596    0.419028  1.757904  0.011898    1.310962  \n17            0.065858  0.027596    0.115772  1.757904  0.011898    1.056449  \n3             0.098254  0.040928    0.171700  1.747522  0.017507    1.088672  \n2             0.238368  0.040928    0.416554  1.747522  0.017507    1.305401  \n15            0.095321  0.027863    0.160031  1.678867  0.011267    1.077039  \n14            0.174110  0.027863    0.292308  1.678867  0.011267    1.167018  \n6             0.238368  0.035729    0.374825  1.572463  0.013007    1.218270  \n7             0.095321  0.035729    0.149888  1.572463  0.013007    1.064189  \n9             0.129583  0.035462    0.203675  1.571779  0.012900    1.093043  \n8             0.174110  0.035462    0.273663  1.571779  0.012900    1.137061  \n1             0.129583  0.047994    0.201342  1.553774  0.017105    1.089850  \n0             0.238368  0.047994    0.370370  1.553774  0.017105    1.209650  \n18            0.174110  0.025197    0.265077  1.522468  0.008647    1.123778  \n19            0.095054  0.025197    0.144717  1.522468  0.008647    1.058066  \n11            0.163845  0.032129    0.247942  1.513276  0.010898    1.111823  \n10            0.129583  0.032129    0.196094  1.513276  0.010898    1.082736  ",
      "text/html": "<div>\n<style scoped>\n    .dataframe tbody tr th:only-of-type {\n        vertical-align: middle;\n    }\n\n    .dataframe tbody tr th {\n        vertical-align: top;\n    }\n\n    .dataframe thead th {\n        text-align: right;\n    }\n</style>\n<table border=\"1\" class=\"dataframe\">\n  <thead>\n    <tr style=\"text-align: right;\">\n      <th></th>\n      <th>antecedents</th>\n      <th>consequents</th>\n      <th>antecedent support</th>\n      <th>consequent support</th>\n      <th>support</th>\n      <th>confidence</th>\n      <th>lift</th>\n      <th>leverage</th>\n      <th>conviction</th>\n    </tr>\n  </thead>\n  <tbody>\n    <tr>\n      <th>5</th>\n      <td>(spaghetti)</td>\n      <td>(ground beef)</td>\n      <td>0.174110</td>\n      <td>0.098254</td>\n      <td>0.039195</td>\n      <td>0.225115</td>\n      <td>2.291162</td>\n      <td>0.022088</td>\n      <td>1.163716</td>\n    </tr>\n    <tr>\n      <th>4</th>\n      <td>(ground beef)</td>\n      <td>(spaghetti)</td>\n      <td>0.098254</td>\n      <td>0.174110</td>\n      <td>0.039195</td>\n      <td>0.398915</td>\n      <td>2.291162</td>\n      <td>0.022088</td>\n      <td>1.373997</td>\n    </tr>\n    <tr>\n      <th>13</th>\n      <td>(eggs)</td>\n      <td>(burgers)</td>\n      <td>0.179709</td>\n      <td>0.087188</td>\n      <td>0.028796</td>\n      <td>0.160237</td>\n      <td>1.837830</td>\n      <td>0.013128</td>\n      <td>1.086988</td>\n    </tr>\n    <tr>\n      <th>12</th>\n      <td>(burgers)</td>\n      <td>(eggs)</td>\n      <td>0.087188</td>\n      <td>0.179709</td>\n      <td>0.028796</td>\n      <td>0.330275</td>\n      <td>1.837830</td>\n      <td>0.013128</td>\n      <td>1.224818</td>\n    </tr>\n    <tr>\n      <th>16</th>\n      <td>(olive oil)</td>\n      <td>(mineral water)</td>\n      <td>0.065858</td>\n      <td>0.238368</td>\n      <td>0.027596</td>\n      <td>0.419028</td>\n      <td>1.757904</td>\n      <td>0.011898</td>\n      <td>1.310962</td>\n    </tr>\n    <tr>\n      <th>17</th>\n      <td>(mineral water)</td>\n      <td>(olive oil)</td>\n      <td>0.238368</td>\n      <td>0.065858</td>\n      <td>0.027596</td>\n      <td>0.115772</td>\n      <td>1.757904</td>\n      <td>0.011898</td>\n      <td>1.056449</td>\n    </tr>\n    <tr>\n      <th>3</th>\n      <td>(mineral water)</td>\n      <td>(ground beef)</td>\n      <td>0.238368</td>\n      <td>0.098254</td>\n      <td>0.040928</td>\n      <td>0.171700</td>\n      <td>1.747522</td>\n      <td>0.017507</td>\n      <td>1.088672</td>\n    </tr>\n    <tr>\n      <th>2</th>\n      <td>(ground beef)</td>\n      <td>(mineral water)</td>\n      <td>0.098254</td>\n      <td>0.238368</td>\n      <td>0.040928</td>\n      <td>0.416554</td>\n      <td>1.747522</td>\n      <td>0.017507</td>\n      <td>1.305401</td>\n    </tr>\n    <tr>\n      <th>15</th>\n      <td>(spaghetti)</td>\n      <td>(frozen vegetables)</td>\n      <td>0.174110</td>\n      <td>0.095321</td>\n      <td>0.027863</td>\n      <td>0.160031</td>\n      <td>1.678867</td>\n      <td>0.011267</td>\n      <td>1.077039</td>\n    </tr>\n    <tr>\n      <th>14</th>\n      <td>(frozen vegetables)</td>\n      <td>(spaghetti)</td>\n      <td>0.095321</td>\n      <td>0.174110</td>\n      <td>0.027863</td>\n      <td>0.292308</td>\n      <td>1.678867</td>\n      <td>0.011267</td>\n      <td>1.167018</td>\n    </tr>\n    <tr>\n      <th>6</th>\n      <td>(frozen vegetables)</td>\n      <td>(mineral water)</td>\n      <td>0.095321</td>\n      <td>0.238368</td>\n      <td>0.035729</td>\n      <td>0.374825</td>\n      <td>1.572463</td>\n      <td>0.013007</td>\n      <td>1.218270</td>\n    </tr>\n    <tr>\n      <th>7</th>\n      <td>(mineral water)</td>\n      <td>(frozen vegetables)</td>\n      <td>0.238368</td>\n      <td>0.095321</td>\n      <td>0.035729</td>\n      <td>0.149888</td>\n      <td>1.572463</td>\n      <td>0.013007</td>\n      <td>1.064189</td>\n    </tr>\n    <tr>\n      <th>9</th>\n      <td>(spaghetti)</td>\n      <td>(milk)</td>\n      <td>0.174110</td>\n      <td>0.129583</td>\n      <td>0.035462</td>\n      <td>0.203675</td>\n      <td>1.571779</td>\n      <td>0.012900</td>\n      <td>1.093043</td>\n    </tr>\n    <tr>\n      <th>8</th>\n      <td>(milk)</td>\n      <td>(spaghetti)</td>\n      <td>0.129583</td>\n      <td>0.174110</td>\n      <td>0.035462</td>\n      <td>0.273663</td>\n      <td>1.571779</td>\n      <td>0.012900</td>\n      <td>1.137061</td>\n    </tr>\n    <tr>\n      <th>1</th>\n      <td>(mineral water)</td>\n      <td>(milk)</td>\n      <td>0.238368</td>\n      <td>0.129583</td>\n      <td>0.047994</td>\n      <td>0.201342</td>\n      <td>1.553774</td>\n      <td>0.017105</td>\n      <td>1.089850</td>\n    </tr>\n    <tr>\n      <th>0</th>\n      <td>(milk)</td>\n      <td>(mineral water)</td>\n      <td>0.129583</td>\n      <td>0.238368</td>\n      <td>0.047994</td>\n      <td>0.370370</td>\n      <td>1.553774</td>\n      <td>0.017105</td>\n      <td>1.209650</td>\n    </tr>\n    <tr>\n      <th>18</th>\n      <td>(pancakes)</td>\n      <td>(spaghetti)</td>\n      <td>0.095054</td>\n      <td>0.174110</td>\n      <td>0.025197</td>\n      <td>0.265077</td>\n      <td>1.522468</td>\n      <td>0.008647</td>\n      <td>1.123778</td>\n    </tr>\n    <tr>\n      <th>19</th>\n      <td>(spaghetti)</td>\n      <td>(pancakes)</td>\n      <td>0.174110</td>\n      <td>0.095054</td>\n      <td>0.025197</td>\n      <td>0.144717</td>\n      <td>1.522468</td>\n      <td>0.008647</td>\n      <td>1.058066</td>\n    </tr>\n    <tr>\n      <th>11</th>\n      <td>(milk)</td>\n      <td>(chocolate)</td>\n      <td>0.129583</td>\n      <td>0.163845</td>\n      <td>0.032129</td>\n      <td>0.247942</td>\n      <td>1.513276</td>\n      <td>0.010898</td>\n      <td>1.111823</td>\n    </tr>\n    <tr>\n      <th>10</th>\n      <td>(chocolate)</td>\n      <td>(milk)</td>\n      <td>0.163845</td>\n      <td>0.129583</td>\n      <td>0.032129</td>\n      <td>0.196094</td>\n      <td>1.513276</td>\n      <td>0.010898</td>\n      <td>1.082736</td>\n    </tr>\n  </tbody>\n</table>\n</div>"
     },
     "metadata": {},
     "execution_count": 20
    }
   ],
   "source": [
    "\n",
    "# 根据频繁项集计算关联规则，设置最小提升度为1.5\n",
    "rules =  association_rules(itemsets, metric='lift', min_threshold=1.5)\n",
    "# 按照提升度从大到小进行排序\n",
    "rules = rules.sort_values(by=\"lift\" , ascending=False)\n",
    "rules"
   ]
  },
  {
   "cell_type": "code",
   "execution_count": null,
   "metadata": {},
   "outputs": [],
   "source": []
  }
 ]
}